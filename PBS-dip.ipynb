{
 "cells": [
  {
   "cell_type": "code",
   "execution_count": 1,
   "id": "e0dcaad4",
   "metadata": {},
   "outputs": [],
   "source": [
    "from qoilsimul import *"
   ]
  },
  {
   "cell_type": "code",
   "execution_count": 23,
   "id": "05d65ecd",
   "metadata": {},
   "outputs": [
    {
     "name": "stdout",
     "output_type": "stream",
     "text": [
      "Experiment initialised.\n",
      "a : p -HWP-PBS---D\n",
      "b : p ------------\n",
      "c : p -----PBS---D\n",
      "d : p ------------\n",
      "\n"
     ]
    }
   ],
   "source": [
    "expr = Experiment()\n",
    "\n",
    "alpha, beta, gamma, delta = sp.var('α β γ δ')\n",
    "state_1 = co(p1,H)*co(p2,V) #alpha*co(p1,H) + beta*co(p1,V)\n",
    "state_2 = co(p1,V)*co(p2,H) #+co(p2,H) #gamma*co(p1,H) + delta*co(p1,V)\n",
    "\n",
    "c = Photon(pathModes=2, dof=['path','pol'], state = state_1)\n",
    "t = Photon(pathModes=2, dof=['path','pol'], state = state_2)\n",
    "expr.addPhotons(c,t)\n",
    "\n",
    "# ppbsv = PPBSV(r=sp.Rational(2)/3)\n",
    "hwp = HWP(th=alpha)\n",
    "pbs = PBS()\n",
    "\n",
    "# ppbsv.i = [c.o[0], t.o[0]]\n",
    "hwp.i = [ppbsv.o[0]]\n",
    "pbs.i = [c.o[0], t.o[0]]\n",
    "\n",
    "expr.addElements(hwp, pbs)\n",
    "\n",
    "d = Detectors(numberOfDetectors=2)\n",
    "d.i = [pbs.o[0], pbs.o[1]]\n",
    "# d.i = [m1.o[1], m2.o[0]]\n",
    "\n",
    "expr.addDetectors(d)\n",
    "\n",
    "expr.generateCircuit()\n",
    "print(expr.circuit)"
   ]
  },
  {
   "cell_type": "code",
   "execution_count": 32,
   "id": "5c4c055f",
   "metadata": {},
   "outputs": [
    {
     "name": "stdout",
     "output_type": "stream",
     "text": [
      "sin(2*α)**2\n"
     ]
    },
    {
     "data": {
      "text/latex": [
       "$\\displaystyle - \\sin{\\left(2 α \\right)} {x}_{a,V} {x}_{b,V} {x}_{c,V} {x}_{d,H} + i \\cos{\\left(2 α \\right)} {x}_{a,H} {x}_{a,V} {x}_{b,V} {x}_{d,H}$"
      ],
      "text/plain": [
       "-sin(2*α)*x[a, V]*x[b, V]*x[c, V]*x[d, H] + I*cos(2*α)*x[a, H]*x[a, V]*x[b, V]*x[d, H]"
      ]
     },
     "execution_count": 32,
     "metadata": {},
     "output_type": "execute_result"
    }
   ],
   "source": [
    "expr.build()\n",
    "print(expr.successProbability)\n",
    "expr.state.expand()"
   ]
  },
  {
   "cell_type": "code",
   "execution_count": 24,
   "id": "1ae43a95",
   "metadata": {},
   "outputs": [
    {
     "name": "stdout",
     "output_type": "stream",
     "text": [
      "Experiment initialised.\n",
      "a : p -HWP-PBS---D\n",
      "b : p -----------D\n",
      "c : p -----PBS---D\n",
      "d : p -----------D\n",
      "\n"
     ]
    }
   ],
   "source": [
    "expr = Experiment()\n",
    "\n",
    "alpha = sp.var('α')\n",
    "state_1 = co(p1,H)*co(p2,V) #alpha*co(p1,H) + beta*co(p1,V)\n",
    "state_2 = co(p1,V)*co(p2,H) #+co(p2,H) #gamma*co(p1,H) + delta*co(p1,V)\n",
    "\n",
    "c = Photon(pathModes=2, dof=['path','pol'], state = state_1)\n",
    "t = Photon(pathModes=2, dof=['path','pol'], state = state_2)\n",
    "expr.addPhotons(c,t)\n",
    "\n",
    "# ppbsv = PPBSV(r=sp.Rational(2)/3)\n",
    "hwp = HWP(th=alpha)\n",
    "pbs = PBS()\n",
    "\n",
    "# ppbsv.i = [c.o[0], t.o[0]]\n",
    "hwp.i = [ppbsv.o[0]]\n",
    "pbs.i = [c.o[0], t.o[0]]\n",
    "\n",
    "expr.addElements(hwp, pbs)\n",
    "\n",
    "d = Detectors(numberOfDetectors=4)\n",
    "d.i = [pbs.o[0], pbs.o[1], c.o[1], t.o[1]]\n",
    "# d.i = [m1.o[1], m2.o[0]]\n",
    "\n",
    "expr.addDetectors(d)\n",
    "\n",
    "expr.generateCircuit()\n",
    "print(expr.circuit)"
   ]
  },
  {
   "cell_type": "code",
   "execution_count": 33,
   "id": "a3d7eee5",
   "metadata": {},
   "outputs": [
    {
     "name": "stdout",
     "output_type": "stream",
     "text": [
      "sin(2*α)**2\n"
     ]
    },
    {
     "data": {
      "text/latex": [
       "$\\displaystyle - \\sin{\\left(2 α \\right)} {x}_{a,V} {x}_{b,V} {x}_{c,V} {x}_{d,H} + i \\cos{\\left(2 α \\right)} {x}_{a,H} {x}_{a,V} {x}_{b,V} {x}_{d,H}$"
      ],
      "text/plain": [
       "-sin(2*α)*x[a, V]*x[b, V]*x[c, V]*x[d, H] + I*cos(2*α)*x[a, H]*x[a, V]*x[b, V]*x[d, H]"
      ]
     },
     "execution_count": 33,
     "metadata": {},
     "output_type": "execute_result"
    }
   ],
   "source": [
    "expr.build()\n",
    "print(expr.successProbability)\n",
    "expr.state.expand()"
   ]
  }
 ],
 "metadata": {
  "kernelspec": {
   "display_name": "Python 3 (ipykernel)",
   "language": "python",
   "name": "python3"
  },
  "language_info": {
   "codemirror_mode": {
    "name": "ipython",
    "version": 3
   },
   "file_extension": ".py",
   "mimetype": "text/x-python",
   "name": "python",
   "nbconvert_exporter": "python",
   "pygments_lexer": "ipython3",
   "version": "3.10.12"
  }
 },
 "nbformat": 4,
 "nbformat_minor": 5
}
