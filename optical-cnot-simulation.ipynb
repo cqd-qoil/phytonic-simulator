{
 "cells": [
  {
   "cell_type": "code",
   "execution_count": 1,
   "id": "3a97481e",
   "metadata": {},
   "outputs": [],
   "source": [
    "from qoilsimul import *"
   ]
  },
  {
   "cell_type": "markdown",
   "id": "c9b3bfe3",
   "metadata": {},
   "source": [
    "# 1. Pre-compensation"
   ]
  },
  {
   "cell_type": "code",
   "execution_count": 104,
   "id": "9bad10d0",
   "metadata": {},
   "outputs": [
    {
     "name": "stdout",
     "output_type": "stream",
     "text": [
      "Experiment initialised.\n",
      "a : p -----PPBSH-------PPBSV-------D\n",
      "b : p -HWP-------PPBSH-PPBSV-HWP---D\n",
      "c : .......PPBSH--------------------\n",
      "d : .............PPBSH--------------\n",
      "\n"
     ]
    },
    {
     "data": {
      "text/latex": [
       "$\\displaystyle α γ {x}_{a,H} {x}_{b,H} + α δ {x}_{a,H} {x}_{b,V} + β γ {x}_{a,V} {x}_{b,H} + β δ {x}_{a,V} {x}_{b,V}$"
      ],
      "text/plain": [
       "α*γ*x[a, H]*x[b, H] + α*δ*x[a, H]*x[b, V] + β*γ*x[a, V]*x[b, H] + β*δ*x[a, V]*x[b, V]"
      ]
     },
     "execution_count": 104,
     "metadata": {},
     "output_type": "execute_result"
    }
   ],
   "source": [
    "expr = Experiment()\n",
    "\n",
    "alpha, beta, gamma, delta = sp.var('α β γ δ')\n",
    "\n",
    "c = Photon(pathModes=1,dof=['path','pol'],state = alpha*co(p1,H) + beta*co(p1,V))\n",
    "t = Photon(pathModes=1,dof=['path','pol'],state = gamma*co(p1,H) + delta*co(p1,V))\n",
    "expr.addPhotons(c,t)\n",
    "\n",
    "hwp1 = HWP(th=sp.pi/8)\n",
    "ppbsh1 = PPBSH(r=sp.Rational(2)/3)\n",
    "ppbsh2 = PPBSH(r=sp.Rational(2)/3)\n",
    "ppbsv = PPBSV(r=sp.Rational(2)/3)\n",
    "m1 = PBS()\n",
    "m2 = PBS()\n",
    "\n",
    "hwp2 = HWP(th=sp.pi/8)\n",
    "\n",
    "hwp1.i = [t.o[0]]\n",
    "ppbsh1.i = [c.o[0], expr.emptyMode()]\n",
    "ppbsh2.i = [hwp1.o[0], expr.emptyMode()]\n",
    "ppbsv.i = [ppbsh1.o[0],ppbsh2.o[0]]\n",
    "hwp2.i = [ppbsv.o[1]]\n",
    "# m1.i = [ppbsv.o[0], expr.emptyMode()] # H, V\n",
    "# m2.i = [ppbsv.o[1], expr.emptyMode()] # H, V\n",
    "\n",
    "\n",
    "expr.addElements(hwp1,ppbsh1,ppbsh2,ppbsv,hwp2)#,m1,m2)\n",
    "\n",
    "d = Detectors(numberOfDetectors=2)\n",
    "d.i = [ppbsv.o[0], hwp2.o[0]]\n",
    "# d.i = [m1.o[1], m2.o[0]]\n",
    "\n",
    "expr.addDetectors(d)\n",
    "\n",
    "expr.generateCircuit()\n",
    "print(expr.circuit)\n",
    "expr.state.expand()"
   ]
  },
  {
   "cell_type": "code",
   "execution_count": 105,
   "id": "2a6b08f0",
   "metadata": {},
   "outputs": [
    {
     "name": "stdout",
     "output_type": "stream",
     "text": [
      "α**2*γ**2/9 + α**2*δ**2/9 + β**2*γ**2/9 + β**2*δ**2/9\n"
     ]
    },
    {
     "data": {
      "text/latex": [
       "$\\displaystyle \\frac{α γ {x}_{a,H} {x}_{b,H}}{3} + \\frac{α δ {x}_{a,H} {x}_{b,V}}{3} + \\frac{β γ {x}_{a,V} {x}_{b,V}}{3} + \\frac{β δ {x}_{a,V} {x}_{b,H}}{3}$"
      ],
      "text/plain": [
       "α*γ*x[a, H]*x[b, H]/3 + α*δ*x[a, H]*x[b, V]/3 + β*γ*x[a, V]*x[b, V]/3 + β*δ*x[a, V]*x[b, H]/3"
      ]
     },
     "execution_count": 105,
     "metadata": {},
     "output_type": "execute_result"
    }
   ],
   "source": [
    "expr.build()\n",
    "print(expr.successProbability)\n",
    "expr.postSelectedState"
   ]
  },
  {
   "cell_type": "code",
   "execution_count": 120,
   "id": "9b9e5ae3",
   "metadata": {},
   "outputs": [
    {
     "data": {
      "text/latex": [
       "$\\displaystyle \\frac{{x}_{a,V} {x}_{b,V}}{3}$"
      ],
      "text/plain": [
       "x[a, V]*x[b, V]/3"
      ]
     },
     "execution_count": 120,
     "metadata": {},
     "output_type": "execute_result"
    }
   ],
   "source": [
    "expr.postSelectedState.subs({alpha: 0,  # H\n",
    "                             beta:  1,  # V\n",
    "                             gamma: 1,  # H\n",
    "                             delta: 0}) # V"
   ]
  },
  {
   "cell_type": "markdown",
   "id": "5895307d",
   "metadata": {},
   "source": [
    "# 2. Post-compensation "
   ]
  },
  {
   "cell_type": "code",
   "execution_count": 114,
   "id": "083a16d2",
   "metadata": {},
   "outputs": [
    {
     "name": "stdout",
     "output_type": "stream",
     "text": [
      "Experiment initialised.\n"
     ]
    }
   ],
   "source": [
    "expr = Experiment()\n",
    "\n",
    "c = Photon(pathModes=1,dof=['path','pol'],state = alpha*co(p1,H) + beta*co(p1,V))\n",
    "t = Photon(pathModes=1,dof=['path','pol'],state = gamma*co(p1,H) + delta*co(p1,V))\n",
    "expr.addPhotons(c,t)\n",
    "\n",
    "hwp1 = HWP(th=sp.pi/8)\n",
    "ppbsh1 = PPBSH(r=sp.Rational(2)/3)\n",
    "ppbsh2 = PPBSH(r=sp.Rational(2)/3)\n",
    "ppbsv = PPBSV(r=sp.Rational(2)/3)\n",
    "hwp2 = HWP(th=sp.pi/8)\n",
    "\n",
    "hwp1.i = [t.o[0]]\n",
    "ppbsv.i = [c.o[0], hwp1.o[0]]\n",
    "ppbsh1.i = [ppbsv.o[0], expr.emptyMode()]\n",
    "ppbsh2.i = [ppbsv.o[1], expr.emptyMode()]\n",
    "hwp2.i = [ppbsh2.o[0]]\n",
    "\n",
    "expr.addElements(hwp1,ppbsv,ppbsh1,ppbsh2,hwp2)\n",
    "\n",
    "d = Detectors(numberOfDetectors=2)\n",
    "d.i = [ppbsh1.o[0],ppbsh2.o[0]]\n",
    "\n",
    "expr.addDetectors(d)"
   ]
  },
  {
   "cell_type": "code",
   "execution_count": 115,
   "id": "4e429f86",
   "metadata": {},
   "outputs": [
    {
     "name": "stdout",
     "output_type": "stream",
     "text": [
      "a : p -----PPBSV-PPBSH-------------D\n",
      "b : p -HWP-PPBSV-------PPBSH-HWP---D\n",
      "c : .............PPBSH--------------\n",
      "d : ...................PPBSH--------\n",
      "\n"
     ]
    }
   ],
   "source": [
    "expr.generateCircuit()\n",
    "print(expr.circuit)"
   ]
  },
  {
   "cell_type": "code",
   "execution_count": 116,
   "id": "4978d405",
   "metadata": {},
   "outputs": [
    {
     "data": {
      "text/latex": [
       "$\\displaystyle \\frac{α γ {x}_{a,H} {x}_{b,H}}{3} + \\frac{α δ {x}_{a,H} {x}_{b,V}}{3} + \\frac{β γ {x}_{a,V} {x}_{b,V}}{3} + \\frac{β δ {x}_{a,V} {x}_{b,H}}{3}$"
      ],
      "text/plain": [
       "α*γ*x[a, H]*x[b, H]/3 + α*δ*x[a, H]*x[b, V]/3 + β*γ*x[a, V]*x[b, V]/3 + β*δ*x[a, V]*x[b, H]/3"
      ]
     },
     "execution_count": 116,
     "metadata": {},
     "output_type": "execute_result"
    }
   ],
   "source": [
    "expr.build()\n",
    "expr.postSelectedState"
   ]
  },
  {
   "cell_type": "code",
   "execution_count": 119,
   "id": "64274139",
   "metadata": {},
   "outputs": [
    {
     "data": {
      "text/latex": [
       "$\\displaystyle \\frac{{x}_{a,V} {x}_{b,V}}{3}$"
      ],
      "text/plain": [
       "x[a, V]*x[b, V]/3"
      ]
     },
     "execution_count": 119,
     "metadata": {},
     "output_type": "execute_result"
    }
   ],
   "source": [
    "expr.postSelectedState.subs({alpha: 0,  # H\n",
    "                             beta:  1,  # V\n",
    "                             gamma: 1,  # H\n",
    "                             delta: 0}) # V"
   ]
  }
 ],
 "metadata": {
  "kernelspec": {
   "display_name": "Python 3 (ipykernel)",
   "language": "python",
   "name": "python3"
  },
  "language_info": {
   "codemirror_mode": {
    "name": "ipython",
    "version": 3
   },
   "file_extension": ".py",
   "mimetype": "text/x-python",
   "name": "python",
   "nbconvert_exporter": "python",
   "pygments_lexer": "ipython3",
   "version": "3.10.6"
  }
 },
 "nbformat": 4,
 "nbformat_minor": 5
}
