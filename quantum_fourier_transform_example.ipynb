{
 "cells": [
  {
   "cell_type": "code",
   "execution_count": 3,
   "id": "9d4d7f4e",
   "metadata": {},
   "outputs": [],
   "source": [
    "import sys\n",
    "sys.path.append('../../../python-bits/phytonic-simulator/')\n",
    "from qoilsimul import *\n",
    "\n",
    "delta, eta, sigma, Sigma, tau, theta, phi, chi = sp.var('δ η σ Σ τ θ φ χ')"
   ]
  },
  {
   "attachments": {},
   "cell_type": "markdown",
   "id": "144668f5",
   "metadata": {},
   "source": [
    "# Example: the three-mode discrete quantum Fourier transform\n",
    "---\n",
    "\n",
    "A three-mode quantum Fourier transform is a unitary transformation that coherently scatters three input modes amongst thee output modes with fixed phases.\n",
    "\n",
    "# Part 1: The theory circuit\n",
    "\n",
    "As a first step, we'd like to adapt the theory circuit from [Phys. Rev. Lett. 128, 160501 (2022)](https://journals.aps.org/prl/abstract/10.1103/PhysRevLett.128.160501), Fig. 1(c).\n",
    "\n",
    "We'd like to look at three different combinations of two detectors in coincidence and verify:\n",
    "- Each output state has an equal probability of success, and\n",
    "- Each output state has a fixed phase."
   ]
  },
  {
   "cell_type": "code",
   "execution_count": 33,
   "id": "fd6ddcc8",
   "metadata": {},
   "outputs": [
    {
     "name": "stdout",
     "output_type": "stream",
     "text": [
      "Experiment initialised.\n",
      "\n",
      " Input state:\n"
     ]
    },
    {
     "data": {
      "text/latex": [
       "$\\displaystyle {x}_{a} {x}_{b}$"
      ],
      "text/plain": [
       "x[a]*x[b]"
      ]
     },
     "execution_count": 33,
     "metadata": {},
     "output_type": "execute_result"
    }
   ],
   "source": [
    "experiment = Experiment()\n",
    "\n",
    "ancilla_photon = Photon(pathModes=1, dof=['path'], state=co(p1))\n",
    "input_photon = Photon(pathModes=1, dof=['path'], state=co(p1))\n",
    "experiment.addPhotons(ancilla_photon, input_photon)\n",
    "\n",
    "beam_splitter_1 = BS(r=1/sp.Rational(2))\n",
    "beam_splitter_2 = BS(r=1/sp.Rational(3))\n",
    "beam_splitter_3 = BS(r=1/sp.Rational(2))\n",
    "phase_shifter = PhaseShifter(theta=3*sp.pi/2)\n",
    "\n",
    "beam_splitter_1.i = [ancilla_photon.o[0], experiment.emptyMode()]\n",
    "phase_shifter.i = [beam_splitter_1.o[0]]\n",
    "beam_splitter_2.i = [input_photon.o[0], beam_splitter_1.o[1]]\n",
    "beam_splitter_3.i = [beam_splitter_2.o[0], phase_shifter.o[0]]\n",
    "\n",
    "list_of_elements = [beam_splitter_1, phase_shifter, beam_splitter_2, beam_splitter_3]\n",
    "experiment.addElements(*list_of_elements)\n",
    "\n",
    "detector = Detectors(numberOfDetectors=2)\n",
    "detector.i = [*beam_splitter_3.o]\n",
    "experiment.addDetectors(detector)\n",
    "\n",
    "print('\\n Input state:')\n",
    "experiment.state"
   ]
  },
  {
   "cell_type": "code",
   "execution_count": 34,
   "id": "3937448d",
   "metadata": {},
   "outputs": [
    {
     "name": "stdout",
     "output_type": "stream",
     "text": [
      "a : p -BS-PSh----BS---D\n",
      "b : p --------BS-BS---D\n",
      "c : ...BS-----BS-------\n",
      "\n"
     ]
    }
   ],
   "source": [
    "experiment.generateCircuit()\n",
    "print(experiment.circuit)"
   ]
  },
  {
   "cell_type": "markdown",
   "id": "05b9c1a2",
   "metadata": {},
   "source": [
    "## First detector combination (detector 1 + detector 2)"
   ]
  },
  {
   "cell_type": "code",
   "execution_count": 35,
   "id": "02c8b2f8",
   "metadata": {},
   "outputs": [
    {
     "name": "stdout",
     "output_type": "stream",
     "text": [
      "\n",
      "Two-fold success probability: 1/9\n",
      "\n",
      "Final state:\n"
     ]
    },
    {
     "data": {
      "text/latex": [
       "$\\displaystyle \\frac{{x}_{a} {x}_{b}}{3}$"
      ],
      "text/plain": [
       "x[a]*x[b]/3"
      ]
     },
     "execution_count": 35,
     "metadata": {},
     "output_type": "execute_result"
    }
   ],
   "source": [
    "experiment.build()\n",
    "print('\\nTwo-fold success probability: {}'.format(experiment.successProbability))\n",
    "\n",
    "print('\\nFinal state:')\n",
    "experiment.postSelectedState"
   ]
  },
  {
   "cell_type": "markdown",
   "id": "795c77b1",
   "metadata": {},
   "source": [
    "## Second detector combination (detector 2 + detector 3)"
   ]
  },
  {
   "cell_type": "code",
   "execution_count": 31,
   "id": "0b1e7001",
   "metadata": {},
   "outputs": [
    {
     "name": "stdout",
     "output_type": "stream",
     "text": [
      "\n",
      "Two-fold success probability: 1/9\n",
      "\n",
      " Final state:\n"
     ]
    },
    {
     "data": {
      "text/latex": [
       "$\\displaystyle \\left(- \\frac{1}{6} - \\frac{\\sqrt{3} i}{6}\\right) {x}_{b} {x}_{c}$"
      ],
      "text/plain": [
       "(-1/6 - sqrt(3)*I/6)*x[b]*x[c]"
      ]
     },
     "execution_count": 31,
     "metadata": {},
     "output_type": "execute_result"
    }
   ],
   "source": [
    "experiment.addElements(*list_of_elements)\n",
    "detector.i = [beam_splitter_3.o[0], beam_splitter_2.o[1]]\n",
    "experiment.addDetectors(detector)\n",
    "\n",
    "experiment.build()\n",
    "print('\\nTwo-fold success probability: {}'.format(experiment.successProbability))\n",
    "print('\\n Final state:')\n",
    "experiment.postSelectedState"
   ]
  },
  {
   "cell_type": "markdown",
   "id": "047155cd",
   "metadata": {},
   "source": [
    "## Third detector combination (detector 1 + detector 3)"
   ]
  },
  {
   "cell_type": "code",
   "execution_count": 36,
   "id": "9e6d62ba",
   "metadata": {},
   "outputs": [
    {
     "name": "stdout",
     "output_type": "stream",
     "text": [
      "\n",
      "Two-fold success probability: 1/9\n",
      "\n",
      " Final state:\n"
     ]
    },
    {
     "data": {
      "text/latex": [
       "$\\displaystyle \\left(- \\frac{1}{6} + \\frac{\\sqrt{3} i}{6}\\right) {x}_{a} {x}_{c}$"
      ],
      "text/plain": [
       "(-1/6 + sqrt(3)*I/6)*x[a]*x[c]"
      ]
     },
     "execution_count": 36,
     "metadata": {},
     "output_type": "execute_result"
    }
   ],
   "source": [
    "experiment.addElements(*list_of_elements)\n",
    "detector.i = [beam_splitter_3.o[1], beam_splitter_2.o[1]]\n",
    "experiment.addDetectors(detector)\n",
    "\n",
    "experiment.build()\n",
    "print('\\nTwo-fold success probability: {}'.format(experiment.successProbability))\n",
    "print('\\n Final state:')\n",
    "experiment.postSelectedState"
   ]
  },
  {
   "cell_type": "markdown",
   "id": "530c4601",
   "metadata": {},
   "source": [
    "# Part 2: The real experimental circuit\n",
    "\n",
    "In the lab, we want to implement a polarisation-based version of the QFT circuit described above. However, we must again verify that, for three different combinations detectors:\n",
    "- Each output state has an equal probability of success, and\n",
    "- Each output state has a fixed phase."
   ]
  },
  {
   "cell_type": "code",
   "execution_count": 140,
   "id": "2f684129",
   "metadata": {},
   "outputs": [
    {
     "name": "stdout",
     "output_type": "stream",
     "text": [
      "Experiment initialised.\n",
      "a : p -BD1-----π/8-∇-BD4-----π/4-∇-BD5------------\n",
      "b : ...BD1-π/4-------BD4-0.3-------BD5-π/8-BD6---D\n",
      "c : .................BD4--------------------------\n",
      "d : ...............................BD5------------\n",
      "e : .......................................BD6---D\n",
      "\n"
     ]
    }
   ],
   "source": [
    "experiment = Experiment()\n",
    "\n",
    "photon_state = Photon(pathModes=1, dof=['path','pol'],\n",
    "                state=co(p1,V)*co(p1,H))\n",
    "experiment.addPhotons(photon_state)\n",
    "\n",
    "bd1 = BD(pathmodes=1, walking_pol=H, label='BD1')\n",
    "h1, h2 = HWP(theta=sp.pi/4,label='π/4'), HWP(theta=0,label='0')\n",
    "\n",
    "h6 = HWP(theta=sp.pi/8,label='π/8')\n",
    "bd4 = BD(pathmodes=3, walking_pol=H, label='BD4')\n",
    "extra_ps = RelPhaseShifter(theta=sp.pi/2, label='∇')\n",
    "rps = PhaseShifter(theta=sp.pi, label='∇')\n",
    "h7, h8 = HWP(theta=-0.3078-sp.pi,label='0.3'), HWP(theta=-sp.pi/4,label='π/4')\n",
    "bd5 = BD(pathmodes=2, walking_pol=H, label='BD5')\n",
    "\n",
    "h9 = HWP(theta=sp.pi/8,label='π/8')\n",
    "bd6 = BD(pathmodes=1, walking_pol=H, label='BD6')\n",
    "\n",
    "bd1.i = [res.o[0], experiment.emptyMode()]\n",
    "h1.i =  [bd1.o[1]]\n",
    "h2.i =  [bd1.o[0]]\n",
    "h6.i =  [res.o[0]]\n",
    "extra_ps.i = [h6.o[0]]\n",
    "bd4.i = [h6.o[0], h1.o[0], experiment.emptyMode()]\n",
    "h7.i =  [bd4.o[1]]\n",
    "h8.i =  [bd4.o[0]]\n",
    "bd5.i = [h8.o[0], h7.o[0], experiment.emptyMode()]\n",
    "rps.i = [bd5.o[0]]\n",
    "h9.i =  [bd5.o[1]]\n",
    "bd6.i = [h9.o[0], experiment.emptyMode()]\n",
    "\n",
    "experiment.addElements(bd1,h1,h6,extra_ps,bd4,h7,h8,rps,bd5,h9,bd6)\n",
    "\n",
    "detector = Detectors(numberOfDetectors=2)\n",
    "detector.i = [*bd6.o]\n",
    "\n",
    "experiment.addDetectors(detector)\n",
    "experiment.generateCircuit()\n",
    "print(experiment.circuit)\n",
    "experiment.build()"
   ]
  },
  {
   "cell_type": "markdown",
   "id": "7ff40937",
   "metadata": {},
   "source": [
    "## First detector combination (detector 1 + detector 2)"
   ]
  },
  {
   "cell_type": "code",
   "execution_count": 141,
   "id": "37fa45ea",
   "metadata": {},
   "outputs": [
    {
     "name": "stdout",
     "output_type": "stream",
     "text": [
      "\n",
      "Two-fold success probability: 0.111130007442022\n",
      "\n",
      "Final state:\n"
     ]
    },
    {
     "data": {
      "text/latex": [
       "$\\displaystyle 0.235722302129033 \\sqrt{2} i {x}_{b,V} {x}_{e,H}$"
      ],
      "text/plain": [
       "0.235722302129033*sqrt(2)*I*x[b, V]*x[e, H]"
      ]
     },
     "execution_count": 141,
     "metadata": {},
     "output_type": "execute_result"
    }
   ],
   "source": [
    "experiment.build()\n",
    "print('\\nTwo-fold success probability: {}'.format(experiment.successProbability))\n",
    "\n",
    "print('\\nFinal state:')\n",
    "experiment.postSelectedState"
   ]
  },
  {
   "cell_type": "markdown",
   "id": "6d025a53",
   "metadata": {},
   "source": [
    "## Second detector combination (detector 2 + detector 3)"
   ]
  },
  {
   "cell_type": "code",
   "execution_count": 142,
   "id": "ada35065",
   "metadata": {
    "scrolled": true
   },
   "outputs": [
    {
     "name": "stdout",
     "output_type": "stream",
     "text": [
      "\n",
      "Two-fold success probability: 0.111101672593145\n",
      "\n",
      " Final state:\n"
     ]
    },
    {
     "data": {
      "text/latex": [
       "$\\displaystyle \\left(0.166553250091243 + 0.288724241235801 i\\right) {x}_{d,H} {x}_{e,H}$"
      ],
      "text/plain": [
       "(0.166553250091243 + 0.288724241235801*I)*x[d, H]*x[e, H]"
      ]
     },
     "execution_count": 142,
     "metadata": {},
     "output_type": "execute_result"
    }
   ],
   "source": [
    "detector.i = [bd6.o[1], bd5.o[2]]\n",
    "experiment.addDetectors(detector)\n",
    "\n",
    "experiment.build()\n",
    "print('\\nTwo-fold success probability: {}'.format(experiment.successProbability))\n",
    "print('\\n Final state:')\n",
    "experiment.postSelectedState"
   ]
  },
  {
   "cell_type": "markdown",
   "id": "d2f86e5e",
   "metadata": {},
   "source": [
    "## Third detector combination (detector 1 + detector 3)"
   ]
  },
  {
   "cell_type": "code",
   "execution_count": 143,
   "id": "d28c1346",
   "metadata": {},
   "outputs": [
    {
     "name": "stdout",
     "output_type": "stream",
     "text": [
      "\n",
      "Two-fold success probability: 0.111101672593145\n",
      "\n",
      " Final state:\n"
     ]
    },
    {
     "data": {
      "text/latex": [
       "$\\displaystyle \\left(-0.166553250091243 + 0.288724241235801 i\\right) {x}_{b,V} {x}_{d,H}$"
      ],
      "text/plain": [
       "(-0.166553250091243 + 0.288724241235801*I)*x[b, V]*x[d, H]"
      ]
     },
     "execution_count": 143,
     "metadata": {},
     "output_type": "execute_result"
    }
   ],
   "source": [
    "detector.i = [bd6.o[0], bd5.o[2]]\n",
    "experiment.addDetectors(detector)\n",
    "\n",
    "experiment.build()\n",
    "print('\\nTwo-fold success probability: {}'.format(experiment.successProbability))\n",
    "print('\\n Final state:')\n",
    "experiment.postSelectedState"
   ]
  },
  {
   "cell_type": "markdown",
   "id": "c2e17b24",
   "metadata": {},
   "source": [
    "which coincide with the theory circuit."
   ]
  }
 ],
 "metadata": {
  "kernelspec": {
   "display_name": "Python 3 (ipykernel)",
   "language": "python",
   "name": "python3"
  },
  "language_info": {
   "codemirror_mode": {
    "name": "ipython",
    "version": 3
   },
   "file_extension": ".py",
   "mimetype": "text/x-python",
   "name": "python",
   "nbconvert_exporter": "python",
   "pygments_lexer": "ipython3",
   "version": "3.10.12"
  }
 },
 "nbformat": 4,
 "nbformat_minor": 5
}
